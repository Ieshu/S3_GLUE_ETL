{
 "cells": [
  {
   "cell_type": "code",
   "execution_count": 3,
   "id": "062ea4c3",
   "metadata": {},
   "outputs": [],
   "source": [
    "import pandas as pd\n",
    "import boto3\n",
    "import json\n",
    "import warnings \n",
    "import logging\n",
    "import boto3\n",
    "from botocore.exceptions import ClientError\n",
    "warnings.filterwarnings('ignore')\n",
    "import configparser\n",
    "\n",
    "config = configparser.ConfigParser()\n",
    "config.read_file(open('dwh.cfg'))\n",
    "\n",
    "KEY                    = config.get('AWS','KEY')\n",
    "SECRET                 = config.get('AWS','SECRET')"
   ]
  },
  {
   "cell_type": "code",
   "execution_count": 4,
   "id": "5a184a4e",
   "metadata": {},
   "outputs": [
    {
     "name": "stdout",
     "output_type": "stream",
     "text": [
      "Job ies_etl_job created.\n"
     ]
    }
   ],
   "source": [
    "# Create a Glue client\n",
    "glue = boto3.client('glue', region_name='us-west-2', aws_access_key_id=KEY, aws_secret_access_key=SECRET)\n",
    "\n",
    "# Specify your job parameters\n",
    "job_name = 'ies_etl_job'\n",
    "script_location = 's3://ieshaan-bucket-latest/etl_script/my_etl_script.py'\n",
    "database_name = 'people_db'\n",
    "input_table_name = 'input_large_csv'\n",
    "output_table_name = 'output_table'\n",
    "\n",
    "# Create the Glue Job\n",
    "response = glue.create_job(\n",
    "    Name=job_name,\n",
    "    Role='arn:aws:iam::935670829844:role/dwhR',\n",
    "    Command={'Name': 'glueetl', 'ScriptLocation': script_location},\n",
    "    DefaultArguments={\n",
    "        '--database_name': database_name,\n",
    "        '--input_table_name': input_table_name,\n",
    "        '--output_table_name': output_table_name\n",
    "    }\n",
    ")\n",
    "\n",
    "print(f\"Job {job_name} created.\")"
   ]
  }
 ],
 "metadata": {
  "kernelspec": {
   "display_name": "Python 3 (ipykernel)",
   "language": "python",
   "name": "python3"
  },
  "language_info": {
   "codemirror_mode": {
    "name": "ipython",
    "version": 3
   },
   "file_extension": ".py",
   "mimetype": "text/x-python",
   "name": "python",
   "nbconvert_exporter": "python",
   "pygments_lexer": "ipython3",
   "version": "3.9.7"
  }
 },
 "nbformat": 4,
 "nbformat_minor": 5
}
